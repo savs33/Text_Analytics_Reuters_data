{
 "cells": [
  {
   "cell_type": "markdown",
   "metadata": {
    "id": "UsGgvAtVqWSW"
   },
   "source": [
    "# Reuters News Classification"
   ]
  },
  {
   "cell_type": "markdown",
   "metadata": {
    "id": "jAJda5HrtJX0"
   },
   "source": [
    "## Introduction"
   ]
  },
  {
   "cell_type": "markdown",
   "metadata": {
    "id": "CMY9yxk2tRTM"
   },
   "source": [
    "In the following notebook, two possible ways of classifying the entries in the *Reuters-21578 text categorization test collection* corpus  The first uses a Linear Support Vector Classifier (LSV) to learn and predict the categories of entries. The second uses a Multinomial Naive Bayes Classifier (MNB) to learn and predict whether entries are categorized as 'earn' or not. Commentary, including the advantages and disadvantages of each approach, is provided throughout.\n",
    "\n",
    "The notebook is divided into two parts. The first part, Building and Testing the Models, gives a step-by-step walkthrough of the process taken in building, testing, and analyzing the models and their performance. The second part, Loading and Running the Models, allows the user to load the models saved in the previous part and run them with new data."
   ]
  },
  {
   "cell_type": "markdown",
   "metadata": {
    "id": "o3ue4Bjc1Qw1"
   },
   "source": [
    "## Building and Testing the Models"
   ]
  },
  {
   "cell_type": "markdown",
   "metadata": {
    "id": "_TcjDh05q1RF"
   },
   "source": [
    "### Importing Libraries"
   ]
  },
  {
   "cell_type": "code",
   "execution_count": 4,
   "metadata": {
    "id": "5lSZ3vR3mwZ8"
   },
   "outputs": [],
   "source": [
    "import os, re\n",
    "from bs4 import BeautifulSoup\n",
    "import pandas as pd\n",
    "import matplotlib.pyplot as plt\n",
    "import sklearn\n",
    "from sklearn.model_selection import train_test_split\n",
    "from sklearn.feature_extraction.text import CountVectorizer, TfidfTransformer\n",
    "from sklearn.pipeline import Pipeline\n",
    "from sklearn.model_selection import GridSearchCV\n",
    "from sklearn.metrics import classification_report, confusion_matrix, ConfusionMatrixDisplay, multilabel_confusion_matrix\n",
    "import seaborn as sns\n",
    "from sklearn.svm import LinearSVC\n",
    "from sklearn.naive_bayes import MultinomialNB\n",
    "import pickle"
   ]
  },
  {
   "cell_type": "markdown",
   "metadata": {
    "id": "td1A7MxUq_5r"
   },
   "source": [
    "### Processing and Compiling the Corpus"
   ]
  },
  {
   "cell_type": "markdown",
   "metadata": {
    "id": "60fKLzUBvwKO"
   },
   "source": [
    "The dataset (in the data folder) is in .sgm files with corresponding markup and a stylesheet detailing the strategy employed. I elected to convert the data into a single dataset of dictionaries with all the information that was relevant for the aforementioned approaches. No preprocessing (other than that which is built into scikit-learn's CountVectorizer and TfidfVectorizer) was performed outside of ensuring that the contents of the data were utf-8 encoded, in xml-safe format for Beautiful Soup, and free of superfluous and otherwise undesirable symbols like '\\n'."
   ]
  },
  {
   "cell_type": "code",
   "execution_count": 5,
   "metadata": {
    "id": "f4JFtT14ULzp"
   },
   "outputs": [],
   "source": [
    "def minor_preprocess(file):\n",
    "\n",
    "  with open(file, 'rb') as f:\n",
    "    lines = f.readlines()\n",
    "    utf8_safe_lines = [line.decode('utf-8', 'ignore') for line in lines]\n",
    "    xml_safe_lines = [re.sub(r'&#\\d*;', '', line) for line in utf8_safe_lines] # Get rid of problematic strings\n",
    "    no_newlines = [line.replace('\\n', ' ') for line in xml_safe_lines]\n",
    "  f.close()\n",
    "\n",
    "  return ''.join(no_newlines)\n"
   ]
  },
  {
   "cell_type": "markdown",
   "metadata": {
    "id": "94_SZUXP1Wl9"
   },
   "source": [
    "The files contained 1000 entries each, except for the last one. All entries were parsed into a single dataset, retaining all information, and converted into a dictionary."
   ]
  },
  {
   "cell_type": "code",
   "execution_count": 6,
   "metadata": {
    "id": "b4O95INOXH2M"
   },
   "outputs": [],
   "source": [
    "def compile_data(datapath='/Users/savitha/Documents/reuters21578/reuters21578'):\n",
    "  dataset = []\n",
    "  for file in os.listdir(datapath):\n",
    "    if file.endswith('.sgm'):\n",
    "      preprocessed_data = minor_preprocess(datapath + '/' + file)\n",
    "      records = [record + '</REUTERS>' for record in preprocessed_data.split('</REUTERS>') if record] # Retain all original formatting\n",
    "      dataset.extend(records)\n",
    "  \n",
    "  return dataset"
   ]
  },
  {
   "cell_type": "markdown",
   "metadata": {
    "id": "bq8Tg1Gt1rUK"
   },
   "source": [
    "For the purposes of this project, only four labels were deemed necessary, as indicated in the following function. The labels and contents were extracted into a corresponding dictionary."
   ]
  },
  {
   "cell_type": "code",
   "execution_count": 7,
   "metadata": {
    "id": "7xGf7gnOiOsT"
   },
   "outputs": [],
   "source": [
    "def compile_dictionary(data):\n",
    "  \n",
    "  data_dict = {\n",
    "      'REUTERS TOPICS': '', # Initialize each key with some value. Important for the try/except block.\n",
    "      'TOPICS': 'none', # Consider empty topics as a new category, 'none'. See next section.\n",
    "      'TITLE': '',\n",
    "      'BODY': '',\n",
    "      }\n",
    "\n",
    "  # Grab the Reuters Topics between the following tags\n",
    "  start = data.find('<REUTERS TOPICS=\"') + len('<REUTERS TOPICS=\"')\n",
    "  end = data.find('\" LEWISSPLIT=')\n",
    "  data_dict['REUTERS TOPICS'] = data[start:end]\n",
    "\n",
    "\n",
    "  soup = BeautifulSoup(data, 'xml')\n",
    "\n",
    "  # Use a try/except block to grab Topics, Title, and Body in case they are empty\n",
    "  # If empty, the default value remains unchanged\n",
    "  try:\n",
    "    if soup.TOPICS.contents:\n",
    "      data_dict['TOPICS'] = soup.TOPICS.D.contents[0]\n",
    "\n",
    "    if soup.TITLE.contents:\n",
    "      data_dict['TITLE'] = soup.TITLE.contents[0]\n",
    "\n",
    "    if soup.BODY.contents:\n",
    "      body = soup.BODY.contents[0]\n",
    "      data_dict['BODY'] = soup.BODY.contents[0]\n",
    "  except AttributeError:\n",
    "    pass\n",
    "\n",
    "  return data_dict\n"
   ]
  },
  {
   "cell_type": "code",
   "execution_count": 8,
   "metadata": {
    "id": "juLmtMvWnh2c"
   },
   "outputs": [],
   "source": [
    "# Get a list of all documents\n",
    "dataset = compile_data()"
   ]
  },
  {
   "cell_type": "code",
   "execution_count": 9,
   "metadata": {
    "id": "KtFlkeaI3ifl"
   },
   "outputs": [],
   "source": [
    "# Convert the list into a dictionary with fields of interest\n",
    "dataset_dicts = [compile_dictionary(data) for data in dataset]"
   ]
  },
  {
   "cell_type": "markdown",
   "metadata": {
    "id": "yCu9eoWCrj4k"
   },
   "source": [
    "### About the Data"
   ]
  },
  {
   "cell_type": "markdown",
   "metadata": {
    "id": "-NZsWn_FwEU1"
   },
   "source": [
    "According to the README, if REUTERS TOPICS contains YES, but no topics are given in TOPICS, then the articles \"can reasonably be considered negative examples of all 135 topics.\" [[5]](#5) Thus these entries should be retained. If REUTERS TOPICS contains NO, but some topic is given, then it was added after the original indexing. Thus they too should be retained. However, if REUTERS TOPICS contains NO and no topics were given, then it is still ambiguous whether they were intended as negative examples or not. Thus these entries should be dismissed from the dataset. **I have included only those entries that satisfies these conditions by including only those entries that either have topics *or* state that there are topics.**"
   ]
  },
  {
   "cell_type": "code",
   "execution_count": 17,
   "metadata": {
    "id": "tOpsHBHPlUVc"
   },
   "outputs": [],
   "source": [
    "dataset_dicts = [data for data in dataset_dicts if data['TOPICS'] != 'none' and  data['REUTERS TOPICS'] == 'YES']"
   ]
  },
  {
   "cell_type": "markdown",
   "metadata": {
    "id": "KYlh1RDd6BTe"
   },
   "source": [
    "In some cases, there is **no text in the BODY** field, but the article is still categorized. **In those cases, I used the TITLE field as the BODY** since that is all the categorizer had to go on."
   ]
  },
  {
   "cell_type": "code",
   "execution_count": 11,
   "metadata": {
    "id": "xrkv0gy_6RQA"
   },
   "outputs": [],
   "source": [
    "for data in dataset_dicts:\n",
    "  if data['BODY'] == '':\n",
    "    data['BODY'] = data['TITLE']"
   ]
  },
  {
   "cell_type": "markdown",
   "metadata": {
    "id": "1MN1D5ubzFiq"
   },
   "source": [
    "Finally, for convenience, I have used **pandas** to manage and display the data."
   ]
  },
  {
   "cell_type": "code",
   "execution_count": 18,
   "metadata": {
    "id": "uYTXBm6m7o8O"
   },
   "outputs": [],
   "source": [
    "df = pd.DataFrame(dataset_dicts)"
   ]
  },
  {
   "cell_type": "code",
   "execution_count": 20,
   "metadata": {},
   "outputs": [
    {
     "data": {
      "text/html": [
       "<div>\n",
       "<style scoped>\n",
       "    .dataframe tbody tr th:only-of-type {\n",
       "        vertical-align: middle;\n",
       "    }\n",
       "\n",
       "    .dataframe tbody tr th {\n",
       "        vertical-align: top;\n",
       "    }\n",
       "\n",
       "    .dataframe thead th {\n",
       "        text-align: right;\n",
       "    }\n",
       "</style>\n",
       "<table border=\"1\" class=\"dataframe\">\n",
       "  <thead>\n",
       "    <tr style=\"text-align: right;\">\n",
       "      <th></th>\n",
       "      <th>REUTERS TOPICS</th>\n",
       "      <th>TOPICS</th>\n",
       "      <th>TITLE</th>\n",
       "      <th>BODY</th>\n",
       "    </tr>\n",
       "  </thead>\n",
       "  <tbody>\n",
       "    <tr>\n",
       "      <th>0</th>\n",
       "      <td>YES</td>\n",
       "      <td>interest</td>\n",
       "      <td>U.S. ECONOMIC DATA KEY TO DEBT FUTURES OUTLOOK</td>\n",
       "      <td>U.S. economic data this week could be the key ...</td>\n",
       "    </tr>\n",
       "    <tr>\n",
       "      <th>1</th>\n",
       "      <td>YES</td>\n",
       "      <td>earn</td>\n",
       "      <td>BANK OF BRITISH COLUMBIA 1ST QTR JAN 31 NET</td>\n",
       "      <td>Oper shr loss two cts vs profit three cts     ...</td>\n",
       "    </tr>\n",
       "    <tr>\n",
       "      <th>2</th>\n",
       "      <td>YES</td>\n",
       "      <td>earn</td>\n",
       "      <td>RESTAURANT ASSOCIATES INC &lt;RA&gt; 4TH QTR JAN 3</td>\n",
       "      <td>Shr 25 cts vs 36 cts     Net 1.4 mln vs 1.4 ml...</td>\n",
       "    </tr>\n",
       "    <tr>\n",
       "      <th>3</th>\n",
       "      <td>YES</td>\n",
       "      <td>earn</td>\n",
       "      <td>MICHIGAN GENERAL CORP &lt;MGL&gt; 4TH QTR</td>\n",
       "      <td>Shr loss 1.02 dlrs vs 1.01 dlr     Net loss 18...</td>\n",
       "    </tr>\n",
       "    <tr>\n",
       "      <th>4</th>\n",
       "      <td>YES</td>\n",
       "      <td>crude</td>\n",
       "      <td>USX &lt;X&gt; PROVED OIL, GAS RESERVES FALL IN 1986</td>\n",
       "      <td>USX Corp said proved reserves of oil and natur...</td>\n",
       "    </tr>\n",
       "    <tr>\n",
       "      <th>...</th>\n",
       "      <td>...</td>\n",
       "      <td>...</td>\n",
       "      <td>...</td>\n",
       "      <td>...</td>\n",
       "    </tr>\n",
       "    <tr>\n",
       "      <th>11354</th>\n",
       "      <td>YES</td>\n",
       "      <td>acq</td>\n",
       "      <td>N.Z.'S CHASE CORP MAKES OFFER FOR ENTREGROWTH</td>\n",
       "      <td>Chase Corp Ltd &lt;CHCA.WE&gt; said it will make an ...</td>\n",
       "    </tr>\n",
       "    <tr>\n",
       "      <th>11355</th>\n",
       "      <td>YES</td>\n",
       "      <td>money-fx</td>\n",
       "      <td>TOKYO DEALERS SEE DOLLAR POISED TO BREACH 140 YEN</td>\n",
       "      <td>Tokyo's foreign exchange market is watching ne...</td>\n",
       "    </tr>\n",
       "    <tr>\n",
       "      <th>11356</th>\n",
       "      <td>YES</td>\n",
       "      <td>ship</td>\n",
       "      <td>JAPAN/INDIA CONFERENCE CUTS GULF WAR RISK CHARGES</td>\n",
       "      <td>The Japan/India-Pakistan-Gulf/Japan shipping c...</td>\n",
       "    </tr>\n",
       "    <tr>\n",
       "      <th>11357</th>\n",
       "      <td>YES</td>\n",
       "      <td>ipi</td>\n",
       "      <td>SOVIET INDUSTRIAL GROWTH/TRADE SLOWER IN 1987</td>\n",
       "      <td>The Soviet Union's industrial output is growin...</td>\n",
       "    </tr>\n",
       "    <tr>\n",
       "      <th>11358</th>\n",
       "      <td>YES</td>\n",
       "      <td>gold</td>\n",
       "      <td>SIX KILLED IN SOUTH AFRICAN GOLD MINE ACCIDENT</td>\n",
       "      <td>Six black miners have been killed and two inju...</td>\n",
       "    </tr>\n",
       "  </tbody>\n",
       "</table>\n",
       "<p>11359 rows × 4 columns</p>\n",
       "</div>"
      ],
      "text/plain": [
       "      REUTERS TOPICS    TOPICS  \\\n",
       "0                YES  interest   \n",
       "1                YES      earn   \n",
       "2                YES      earn   \n",
       "3                YES      earn   \n",
       "4                YES     crude   \n",
       "...              ...       ...   \n",
       "11354            YES       acq   \n",
       "11355            YES  money-fx   \n",
       "11356            YES      ship   \n",
       "11357            YES       ipi   \n",
       "11358            YES      gold   \n",
       "\n",
       "                                                   TITLE  \\\n",
       "0         U.S. ECONOMIC DATA KEY TO DEBT FUTURES OUTLOOK   \n",
       "1            BANK OF BRITISH COLUMBIA 1ST QTR JAN 31 NET   \n",
       "2           RESTAURANT ASSOCIATES INC <RA> 4TH QTR JAN 3   \n",
       "3                    MICHIGAN GENERAL CORP <MGL> 4TH QTR   \n",
       "4          USX <X> PROVED OIL, GAS RESERVES FALL IN 1986   \n",
       "...                                                  ...   \n",
       "11354      N.Z.'S CHASE CORP MAKES OFFER FOR ENTREGROWTH   \n",
       "11355  TOKYO DEALERS SEE DOLLAR POISED TO BREACH 140 YEN   \n",
       "11356  JAPAN/INDIA CONFERENCE CUTS GULF WAR RISK CHARGES   \n",
       "11357      SOVIET INDUSTRIAL GROWTH/TRADE SLOWER IN 1987   \n",
       "11358     SIX KILLED IN SOUTH AFRICAN GOLD MINE ACCIDENT   \n",
       "\n",
       "                                                    BODY  \n",
       "0      U.S. economic data this week could be the key ...  \n",
       "1      Oper shr loss two cts vs profit three cts     ...  \n",
       "2      Shr 25 cts vs 36 cts     Net 1.4 mln vs 1.4 ml...  \n",
       "3      Shr loss 1.02 dlrs vs 1.01 dlr     Net loss 18...  \n",
       "4      USX Corp said proved reserves of oil and natur...  \n",
       "...                                                  ...  \n",
       "11354  Chase Corp Ltd <CHCA.WE> said it will make an ...  \n",
       "11355  Tokyo's foreign exchange market is watching ne...  \n",
       "11356  The Japan/India-Pakistan-Gulf/Japan shipping c...  \n",
       "11357  The Soviet Union's industrial output is growin...  \n",
       "11358  Six black miners have been killed and two inju...  \n",
       "\n",
       "[11359 rows x 4 columns]"
      ]
     },
     "execution_count": 20,
     "metadata": {},
     "output_type": "execute_result"
    }
   ],
   "source": [
    "df"
   ]
  },
  {
   "cell_type": "markdown",
   "metadata": {
    "id": "KwDHRYKGsaM8"
   },
   "source": [
    "### Multiclass Classification"
   ]
  },
  {
   "cell_type": "markdown",
   "metadata": {
    "id": "tZ70cUR96AtL"
   },
   "source": [
    "One drawback of multiclass classification is that it requires a certain **threshold** for the number of classes for cross-validation and the train-test split. The minimum required for 3-fold cross-validation on the training set in addition to a test set is 4. **Classes with fewer than 4 entries were thus removed**."
   ]
  },
  {
   "cell_type": "code",
   "execution_count": 21,
   "metadata": {
    "id": "OdGHDi1YvJyZ"
   },
   "outputs": [],
   "source": [
    "df = df[df.groupby('TOPICS').TOPICS.transform('count') > 3]"
   ]
  },
  {
   "cell_type": "code",
   "execution_count": 22,
   "metadata": {},
   "outputs": [
    {
     "data": {
      "text/html": [
       "<div>\n",
       "<style scoped>\n",
       "    .dataframe tbody tr th:only-of-type {\n",
       "        vertical-align: middle;\n",
       "    }\n",
       "\n",
       "    .dataframe tbody tr th {\n",
       "        vertical-align: top;\n",
       "    }\n",
       "\n",
       "    .dataframe thead th {\n",
       "        text-align: right;\n",
       "    }\n",
       "</style>\n",
       "<table border=\"1\" class=\"dataframe\">\n",
       "  <thead>\n",
       "    <tr style=\"text-align: right;\">\n",
       "      <th></th>\n",
       "      <th>REUTERS TOPICS</th>\n",
       "      <th>TOPICS</th>\n",
       "      <th>TITLE</th>\n",
       "      <th>BODY</th>\n",
       "    </tr>\n",
       "  </thead>\n",
       "  <tbody>\n",
       "    <tr>\n",
       "      <th>0</th>\n",
       "      <td>YES</td>\n",
       "      <td>interest</td>\n",
       "      <td>U.S. ECONOMIC DATA KEY TO DEBT FUTURES OUTLOOK</td>\n",
       "      <td>U.S. economic data this week could be the key ...</td>\n",
       "    </tr>\n",
       "    <tr>\n",
       "      <th>1</th>\n",
       "      <td>YES</td>\n",
       "      <td>earn</td>\n",
       "      <td>BANK OF BRITISH COLUMBIA 1ST QTR JAN 31 NET</td>\n",
       "      <td>Oper shr loss two cts vs profit three cts     ...</td>\n",
       "    </tr>\n",
       "    <tr>\n",
       "      <th>2</th>\n",
       "      <td>YES</td>\n",
       "      <td>earn</td>\n",
       "      <td>RESTAURANT ASSOCIATES INC &lt;RA&gt; 4TH QTR JAN 3</td>\n",
       "      <td>Shr 25 cts vs 36 cts     Net 1.4 mln vs 1.4 ml...</td>\n",
       "    </tr>\n",
       "    <tr>\n",
       "      <th>3</th>\n",
       "      <td>YES</td>\n",
       "      <td>earn</td>\n",
       "      <td>MICHIGAN GENERAL CORP &lt;MGL&gt; 4TH QTR</td>\n",
       "      <td>Shr loss 1.02 dlrs vs 1.01 dlr     Net loss 18...</td>\n",
       "    </tr>\n",
       "    <tr>\n",
       "      <th>4</th>\n",
       "      <td>YES</td>\n",
       "      <td>crude</td>\n",
       "      <td>USX &lt;X&gt; PROVED OIL, GAS RESERVES FALL IN 1986</td>\n",
       "      <td>USX Corp said proved reserves of oil and natur...</td>\n",
       "    </tr>\n",
       "    <tr>\n",
       "      <th>...</th>\n",
       "      <td>...</td>\n",
       "      <td>...</td>\n",
       "      <td>...</td>\n",
       "      <td>...</td>\n",
       "    </tr>\n",
       "    <tr>\n",
       "      <th>11354</th>\n",
       "      <td>YES</td>\n",
       "      <td>acq</td>\n",
       "      <td>N.Z.'S CHASE CORP MAKES OFFER FOR ENTREGROWTH</td>\n",
       "      <td>Chase Corp Ltd &lt;CHCA.WE&gt; said it will make an ...</td>\n",
       "    </tr>\n",
       "    <tr>\n",
       "      <th>11355</th>\n",
       "      <td>YES</td>\n",
       "      <td>money-fx</td>\n",
       "      <td>TOKYO DEALERS SEE DOLLAR POISED TO BREACH 140 YEN</td>\n",
       "      <td>Tokyo's foreign exchange market is watching ne...</td>\n",
       "    </tr>\n",
       "    <tr>\n",
       "      <th>11356</th>\n",
       "      <td>YES</td>\n",
       "      <td>ship</td>\n",
       "      <td>JAPAN/INDIA CONFERENCE CUTS GULF WAR RISK CHARGES</td>\n",
       "      <td>The Japan/India-Pakistan-Gulf/Japan shipping c...</td>\n",
       "    </tr>\n",
       "    <tr>\n",
       "      <th>11357</th>\n",
       "      <td>YES</td>\n",
       "      <td>ipi</td>\n",
       "      <td>SOVIET INDUSTRIAL GROWTH/TRADE SLOWER IN 1987</td>\n",
       "      <td>The Soviet Union's industrial output is growin...</td>\n",
       "    </tr>\n",
       "    <tr>\n",
       "      <th>11358</th>\n",
       "      <td>YES</td>\n",
       "      <td>gold</td>\n",
       "      <td>SIX KILLED IN SOUTH AFRICAN GOLD MINE ACCIDENT</td>\n",
       "      <td>Six black miners have been killed and two inju...</td>\n",
       "    </tr>\n",
       "  </tbody>\n",
       "</table>\n",
       "<p>11322 rows × 4 columns</p>\n",
       "</div>"
      ],
      "text/plain": [
       "      REUTERS TOPICS    TOPICS  \\\n",
       "0                YES  interest   \n",
       "1                YES      earn   \n",
       "2                YES      earn   \n",
       "3                YES      earn   \n",
       "4                YES     crude   \n",
       "...              ...       ...   \n",
       "11354            YES       acq   \n",
       "11355            YES  money-fx   \n",
       "11356            YES      ship   \n",
       "11357            YES       ipi   \n",
       "11358            YES      gold   \n",
       "\n",
       "                                                   TITLE  \\\n",
       "0         U.S. ECONOMIC DATA KEY TO DEBT FUTURES OUTLOOK   \n",
       "1            BANK OF BRITISH COLUMBIA 1ST QTR JAN 31 NET   \n",
       "2           RESTAURANT ASSOCIATES INC <RA> 4TH QTR JAN 3   \n",
       "3                    MICHIGAN GENERAL CORP <MGL> 4TH QTR   \n",
       "4          USX <X> PROVED OIL, GAS RESERVES FALL IN 1986   \n",
       "...                                                  ...   \n",
       "11354      N.Z.'S CHASE CORP MAKES OFFER FOR ENTREGROWTH   \n",
       "11355  TOKYO DEALERS SEE DOLLAR POISED TO BREACH 140 YEN   \n",
       "11356  JAPAN/INDIA CONFERENCE CUTS GULF WAR RISK CHARGES   \n",
       "11357      SOVIET INDUSTRIAL GROWTH/TRADE SLOWER IN 1987   \n",
       "11358     SIX KILLED IN SOUTH AFRICAN GOLD MINE ACCIDENT   \n",
       "\n",
       "                                                    BODY  \n",
       "0      U.S. economic data this week could be the key ...  \n",
       "1      Oper shr loss two cts vs profit three cts     ...  \n",
       "2      Shr 25 cts vs 36 cts     Net 1.4 mln vs 1.4 ml...  \n",
       "3      Shr loss 1.02 dlrs vs 1.01 dlr     Net loss 18...  \n",
       "4      USX Corp said proved reserves of oil and natur...  \n",
       "...                                                  ...  \n",
       "11354  Chase Corp Ltd <CHCA.WE> said it will make an ...  \n",
       "11355  Tokyo's foreign exchange market is watching ne...  \n",
       "11356  The Japan/India-Pakistan-Gulf/Japan shipping c...  \n",
       "11357  The Soviet Union's industrial output is growin...  \n",
       "11358  Six black miners have been killed and two inju...  \n",
       "\n",
       "[11322 rows x 4 columns]"
      ]
     },
     "execution_count": 22,
     "metadata": {},
     "output_type": "execute_result"
    }
   ],
   "source": [
    "df"
   ]
  },
  {
   "cell_type": "markdown",
   "metadata": {
    "id": "UZCZwUHG6rp9"
   },
   "source": [
    "Another thing to note about the dataset in order to train a model properly is that it is **unbalanced** in terms of the number of classes represented. Thus **stratified sampling** was used to get accurate proportions for the training and testing sets during the splitting process. Note that this process is otherwise random and specific to my current purposes, so does not correspond to the splits noted in the dataset itself."
   ]
  },
  {
   "cell_type": "code",
   "execution_count": 23,
   "metadata": {
    "id": "125OZ02JH6iK"
   },
   "outputs": [],
   "source": [
    "X_train, X_test, y_train, y_test = train_test_split(df['BODY'], df['TOPICS'], train_size=0.75, stratify=df['TOPICS'])"
   ]
  },
  {
   "cell_type": "code",
   "execution_count": 24,
   "metadata": {},
   "outputs": [
    {
     "data": {
      "text/plain": [
       "1412        trade\n",
       "161        retail\n",
       "9627         earn\n",
       "10023        earn\n",
       "4060     money-fx\n",
       "           ...   \n",
       "4669         earn\n",
       "6779          gnp\n",
       "8243       coffee\n",
       "6219      nat-gas\n",
       "3224      housing\n",
       "Name: TOPICS, Length: 2831, dtype: object"
      ]
     },
     "execution_count": 24,
     "metadata": {},
     "output_type": "execute_result"
    }
   ],
   "source": [
    "y_test"
   ]
  },
  {
   "cell_type": "code",
   "execution_count": 25,
   "metadata": {
    "colab": {
     "base_uri": "https://localhost:8080/"
    },
    "executionInfo": {
     "elapsed": 107,
     "status": "ok",
     "timestamp": 1638065948633,
     "user": {
      "displayName": "Casey Pierson",
      "photoUrl": "https://lh3.googleusercontent.com/a/default-user=s64",
      "userId": "08790610079019777872"
     },
     "user_tz": 360
    },
    "id": "A7jnfAdA4ao5",
    "outputId": "25f4266f-cd9c-450e-b2b8-15b0085d9828"
   },
   "outputs": [
    {
     "data": {
      "text/plain": [
       "1412        trade\n",
       "161        retail\n",
       "9627         earn\n",
       "10023        earn\n",
       "4060     money-fx\n",
       "           ...   \n",
       "4669         earn\n",
       "6779          gnp\n",
       "8243       coffee\n",
       "6219      nat-gas\n",
       "3224      housing\n",
       "Name: TOPICS, Length: 2831, dtype: object"
      ]
     },
     "execution_count": 25,
     "metadata": {},
     "output_type": "execute_result"
    }
   ],
   "source": [
    "y_test"
   ]
  },
  {
   "cell_type": "markdown",
   "metadata": {
    "id": "Sk_wrN1Ljp4f"
   },
   "source": [
    "The **LSV classifier** is a support vector machine which treats each class as if it were linearly separable and attempts to draw that line which separates them within some margin. The default setting for scikit-learn's LSV is to treat multiple classes via a **one-vs-rest** or one-vs-all strategy. More information can be found in the [User Guide](https://scikit-learn.org/stable/modules/svm.html). Class weights were set to 'balanced' to give each class a weight inversely proportional to the frequency of its entries so each category is treated similarly by the regression function. The choice of this function itself is rich with possibilities that would be explored in a different format.\n",
    "\n",
    "Furthermore, **parameters** were tuned via scikit-learn's **GridSearchCV** module which allows multiple possible parameters to be tried in combination with the best being selected for the final fit. **Validation** is done using a **3-fold cross-validation** scheme on the training set so there is no leak of information about the test set in the learning process.\n",
    "\n",
    "Finally, the choice of parameters to adjust were chosen to give a sense of variety in a couple of variables while keeping the runtime within reasonable bounds. **Expect a runtime of about 10 minutes using Google's SequentialBackend with 1 worker**.\n"
   ]
  },
  {
   "cell_type": "code",
   "execution_count": 26,
   "metadata": {
    "colab": {
     "base_uri": "https://localhost:8080/"
    },
    "executionInfo": {
     "elapsed": 524807,
     "status": "ok",
     "timestamp": 1638066482856,
     "user": {
      "displayName": "Casey Pierson",
      "photoUrl": "https://lh3.googleusercontent.com/a/default-user=s64",
      "userId": "08790610079019777872"
     },
     "user_tz": 360
    },
    "id": "ta5QkJdeAWWe",
    "outputId": "3d15f016-c09b-4ac8-9b1f-43c56a324b36"
   },
   "outputs": [
    {
     "name": "stdout",
     "output_type": "stream",
     "text": [
      "Fitting 3 folds for each of 12 candidates, totalling 36 fits\n",
      "[CV] END clf__C=0.9, tfidf__use_idf=True, vect__ngram_range=(2, 2); total time=   2.3s\n",
      "[CV] END clf__C=0.9, tfidf__use_idf=True, vect__ngram_range=(2, 2); total time=   2.4s\n",
      "[CV] END clf__C=0.9, tfidf__use_idf=True, vect__ngram_range=(2, 2); total time=   2.4s\n",
      "[CV] END clf__C=0.9, tfidf__use_idf=True, vect__ngram_range=(1, 2); total time=   2.8s\n",
      "[CV] END clf__C=0.9, tfidf__use_idf=True, vect__ngram_range=(1, 2); total time=   2.9s\n",
      "[CV] END clf__C=0.9, tfidf__use_idf=True, vect__ngram_range=(1, 2); total time=   3.0s\n",
      "[CV] END clf__C=0.9, tfidf__use_idf=True, vect__ngram_range=(2, 3); total time=   6.0s\n",
      "[CV] END clf__C=0.9, tfidf__use_idf=True, vect__ngram_range=(2, 3); total time=   6.6s\n",
      "[CV] END clf__C=0.9, tfidf__use_idf=True, vect__ngram_range=(2, 3); total time=   6.4s\n",
      "[CV] END clf__C=0.9, tfidf__use_idf=False, vect__ngram_range=(2, 2); total time=   2.1s\n",
      "[CV] END clf__C=0.9, tfidf__use_idf=False, vect__ngram_range=(2, 2); total time=   2.1s\n",
      "[CV] END clf__C=0.9, tfidf__use_idf=False, vect__ngram_range=(2, 2); total time=   2.0s\n",
      "[CV] END clf__C=0.9, tfidf__use_idf=False, vect__ngram_range=(1, 2); total time=   2.8s\n",
      "[CV] END clf__C=0.9, tfidf__use_idf=False, vect__ngram_range=(1, 2); total time=   2.9s\n",
      "[CV] END clf__C=0.9, tfidf__use_idf=False, vect__ngram_range=(1, 2); total time=   2.9s\n",
      "[CV] END clf__C=0.9, tfidf__use_idf=False, vect__ngram_range=(2, 3); total time=   5.2s\n",
      "[CV] END clf__C=0.9, tfidf__use_idf=False, vect__ngram_range=(2, 3); total time=   5.3s\n",
      "[CV] END clf__C=0.9, tfidf__use_idf=False, vect__ngram_range=(2, 3); total time=   5.2s\n",
      "[CV] END clf__C=1.0, tfidf__use_idf=True, vect__ngram_range=(2, 2); total time=   2.3s\n",
      "[CV] END clf__C=1.0, tfidf__use_idf=True, vect__ngram_range=(2, 2); total time=   2.4s\n",
      "[CV] END clf__C=1.0, tfidf__use_idf=True, vect__ngram_range=(2, 2); total time=   2.5s\n",
      "[CV] END clf__C=1.0, tfidf__use_idf=True, vect__ngram_range=(1, 2); total time=   2.8s\n",
      "[CV] END clf__C=1.0, tfidf__use_idf=True, vect__ngram_range=(1, 2); total time=   2.9s\n",
      "[CV] END clf__C=1.0, tfidf__use_idf=True, vect__ngram_range=(1, 2); total time=   3.2s\n",
      "[CV] END clf__C=1.0, tfidf__use_idf=True, vect__ngram_range=(2, 3); total time=   6.3s\n",
      "[CV] END clf__C=1.0, tfidf__use_idf=True, vect__ngram_range=(2, 3); total time=   6.5s\n",
      "[CV] END clf__C=1.0, tfidf__use_idf=True, vect__ngram_range=(2, 3); total time=   6.8s\n",
      "[CV] END clf__C=1.0, tfidf__use_idf=False, vect__ngram_range=(2, 2); total time=   2.1s\n",
      "[CV] END clf__C=1.0, tfidf__use_idf=False, vect__ngram_range=(2, 2); total time=   2.1s\n",
      "[CV] END clf__C=1.0, tfidf__use_idf=False, vect__ngram_range=(2, 2); total time=   2.2s\n",
      "[CV] END clf__C=1.0, tfidf__use_idf=False, vect__ngram_range=(1, 2); total time=   2.8s\n",
      "[CV] END clf__C=1.0, tfidf__use_idf=False, vect__ngram_range=(1, 2); total time=   3.0s\n",
      "[CV] END clf__C=1.0, tfidf__use_idf=False, vect__ngram_range=(1, 2); total time=   3.1s\n",
      "[CV] END clf__C=1.0, tfidf__use_idf=False, vect__ngram_range=(2, 3); total time=   5.3s\n",
      "[CV] END clf__C=1.0, tfidf__use_idf=False, vect__ngram_range=(2, 3); total time=   5.2s\n",
      "[CV] END clf__C=1.0, tfidf__use_idf=False, vect__ngram_range=(2, 3); total time=   5.6s\n"
     ]
    },
    {
     "data": {
      "text/html": [
       "<style>#sk-container-id-1 {color: black;background-color: white;}#sk-container-id-1 pre{padding: 0;}#sk-container-id-1 div.sk-toggleable {background-color: white;}#sk-container-id-1 label.sk-toggleable__label {cursor: pointer;display: block;width: 100%;margin-bottom: 0;padding: 0.3em;box-sizing: border-box;text-align: center;}#sk-container-id-1 label.sk-toggleable__label-arrow:before {content: \"▸\";float: left;margin-right: 0.25em;color: #696969;}#sk-container-id-1 label.sk-toggleable__label-arrow:hover:before {color: black;}#sk-container-id-1 div.sk-estimator:hover label.sk-toggleable__label-arrow:before {color: black;}#sk-container-id-1 div.sk-toggleable__content {max-height: 0;max-width: 0;overflow: hidden;text-align: left;background-color: #f0f8ff;}#sk-container-id-1 div.sk-toggleable__content pre {margin: 0.2em;color: black;border-radius: 0.25em;background-color: #f0f8ff;}#sk-container-id-1 input.sk-toggleable__control:checked~div.sk-toggleable__content {max-height: 200px;max-width: 100%;overflow: auto;}#sk-container-id-1 input.sk-toggleable__control:checked~label.sk-toggleable__label-arrow:before {content: \"▾\";}#sk-container-id-1 div.sk-estimator input.sk-toggleable__control:checked~label.sk-toggleable__label {background-color: #d4ebff;}#sk-container-id-1 div.sk-label input.sk-toggleable__control:checked~label.sk-toggleable__label {background-color: #d4ebff;}#sk-container-id-1 input.sk-hidden--visually {border: 0;clip: rect(1px 1px 1px 1px);clip: rect(1px, 1px, 1px, 1px);height: 1px;margin: -1px;overflow: hidden;padding: 0;position: absolute;width: 1px;}#sk-container-id-1 div.sk-estimator {font-family: monospace;background-color: #f0f8ff;border: 1px dotted black;border-radius: 0.25em;box-sizing: border-box;margin-bottom: 0.5em;}#sk-container-id-1 div.sk-estimator:hover {background-color: #d4ebff;}#sk-container-id-1 div.sk-parallel-item::after {content: \"\";width: 100%;border-bottom: 1px solid gray;flex-grow: 1;}#sk-container-id-1 div.sk-label:hover label.sk-toggleable__label {background-color: #d4ebff;}#sk-container-id-1 div.sk-serial::before {content: \"\";position: absolute;border-left: 1px solid gray;box-sizing: border-box;top: 0;bottom: 0;left: 50%;z-index: 0;}#sk-container-id-1 div.sk-serial {display: flex;flex-direction: column;align-items: center;background-color: white;padding-right: 0.2em;padding-left: 0.2em;position: relative;}#sk-container-id-1 div.sk-item {position: relative;z-index: 1;}#sk-container-id-1 div.sk-parallel {display: flex;align-items: stretch;justify-content: center;background-color: white;position: relative;}#sk-container-id-1 div.sk-item::before, #sk-container-id-1 div.sk-parallel-item::before {content: \"\";position: absolute;border-left: 1px solid gray;box-sizing: border-box;top: 0;bottom: 0;left: 50%;z-index: -1;}#sk-container-id-1 div.sk-parallel-item {display: flex;flex-direction: column;z-index: 1;position: relative;background-color: white;}#sk-container-id-1 div.sk-parallel-item:first-child::after {align-self: flex-end;width: 50%;}#sk-container-id-1 div.sk-parallel-item:last-child::after {align-self: flex-start;width: 50%;}#sk-container-id-1 div.sk-parallel-item:only-child::after {width: 0;}#sk-container-id-1 div.sk-dashed-wrapped {border: 1px dashed gray;margin: 0 0.4em 0.5em 0.4em;box-sizing: border-box;padding-bottom: 0.4em;background-color: white;}#sk-container-id-1 div.sk-label label {font-family: monospace;font-weight: bold;display: inline-block;line-height: 1.2em;}#sk-container-id-1 div.sk-label-container {text-align: center;}#sk-container-id-1 div.sk-container {/* jupyter's `normalize.less` sets `[hidden] { display: none; }` but bootstrap.min.css set `[hidden] { display: none !important; }` so we also need the `!important` here to be able to override the default hidden behavior on the sphinx rendered scikit-learn.org. See: https://github.com/scikit-learn/scikit-learn/issues/21755 */display: inline-block !important;position: relative;}#sk-container-id-1 div.sk-text-repr-fallback {display: none;}</style><div id=\"sk-container-id-1\" class=\"sk-top-container\"><div class=\"sk-text-repr-fallback\"><pre>GridSearchCV(cv=3,\n",
       "             estimator=Pipeline(steps=[(&#x27;vect&#x27;, CountVectorizer()),\n",
       "                                       (&#x27;tfidf&#x27;, TfidfTransformer()),\n",
       "                                       (&#x27;clf&#x27;,\n",
       "                                        LinearSVC(class_weight=&#x27;balanced&#x27;,\n",
       "                                                  random_state=0))]),\n",
       "             param_grid={&#x27;clf__C&#x27;: [0.9, 1.0], &#x27;tfidf__use_idf&#x27;: [True, False],\n",
       "                         &#x27;vect__ngram_range&#x27;: [(2, 2), (1, 2), (2, 3)]},\n",
       "             verbose=2)</pre><b>In a Jupyter environment, please rerun this cell to show the HTML representation or trust the notebook. <br />On GitHub, the HTML representation is unable to render, please try loading this page with nbviewer.org.</b></div><div class=\"sk-container\" hidden><div class=\"sk-item sk-dashed-wrapped\"><div class=\"sk-label-container\"><div class=\"sk-label sk-toggleable\"><input class=\"sk-toggleable__control sk-hidden--visually\" id=\"sk-estimator-id-1\" type=\"checkbox\" ><label for=\"sk-estimator-id-1\" class=\"sk-toggleable__label sk-toggleable__label-arrow\">GridSearchCV</label><div class=\"sk-toggleable__content\"><pre>GridSearchCV(cv=3,\n",
       "             estimator=Pipeline(steps=[(&#x27;vect&#x27;, CountVectorizer()),\n",
       "                                       (&#x27;tfidf&#x27;, TfidfTransformer()),\n",
       "                                       (&#x27;clf&#x27;,\n",
       "                                        LinearSVC(class_weight=&#x27;balanced&#x27;,\n",
       "                                                  random_state=0))]),\n",
       "             param_grid={&#x27;clf__C&#x27;: [0.9, 1.0], &#x27;tfidf__use_idf&#x27;: [True, False],\n",
       "                         &#x27;vect__ngram_range&#x27;: [(2, 2), (1, 2), (2, 3)]},\n",
       "             verbose=2)</pre></div></div></div><div class=\"sk-parallel\"><div class=\"sk-parallel-item\"><div class=\"sk-item\"><div class=\"sk-label-container\"><div class=\"sk-label sk-toggleable\"><input class=\"sk-toggleable__control sk-hidden--visually\" id=\"sk-estimator-id-2\" type=\"checkbox\" ><label for=\"sk-estimator-id-2\" class=\"sk-toggleable__label sk-toggleable__label-arrow\">estimator: Pipeline</label><div class=\"sk-toggleable__content\"><pre>Pipeline(steps=[(&#x27;vect&#x27;, CountVectorizer()), (&#x27;tfidf&#x27;, TfidfTransformer()),\n",
       "                (&#x27;clf&#x27;, LinearSVC(class_weight=&#x27;balanced&#x27;, random_state=0))])</pre></div></div></div><div class=\"sk-serial\"><div class=\"sk-item\"><div class=\"sk-serial\"><div class=\"sk-item\"><div class=\"sk-estimator sk-toggleable\"><input class=\"sk-toggleable__control sk-hidden--visually\" id=\"sk-estimator-id-3\" type=\"checkbox\" ><label for=\"sk-estimator-id-3\" class=\"sk-toggleable__label sk-toggleable__label-arrow\">CountVectorizer</label><div class=\"sk-toggleable__content\"><pre>CountVectorizer()</pre></div></div></div><div class=\"sk-item\"><div class=\"sk-estimator sk-toggleable\"><input class=\"sk-toggleable__control sk-hidden--visually\" id=\"sk-estimator-id-4\" type=\"checkbox\" ><label for=\"sk-estimator-id-4\" class=\"sk-toggleable__label sk-toggleable__label-arrow\">TfidfTransformer</label><div class=\"sk-toggleable__content\"><pre>TfidfTransformer()</pre></div></div></div><div class=\"sk-item\"><div class=\"sk-estimator sk-toggleable\"><input class=\"sk-toggleable__control sk-hidden--visually\" id=\"sk-estimator-id-5\" type=\"checkbox\" ><label for=\"sk-estimator-id-5\" class=\"sk-toggleable__label sk-toggleable__label-arrow\">LinearSVC</label><div class=\"sk-toggleable__content\"><pre>LinearSVC(class_weight=&#x27;balanced&#x27;, random_state=0)</pre></div></div></div></div></div></div></div></div></div></div></div></div>"
      ],
      "text/plain": [
       "GridSearchCV(cv=3,\n",
       "             estimator=Pipeline(steps=[('vect', CountVectorizer()),\n",
       "                                       ('tfidf', TfidfTransformer()),\n",
       "                                       ('clf',\n",
       "                                        LinearSVC(class_weight='balanced',\n",
       "                                                  random_state=0))]),\n",
       "             param_grid={'clf__C': [0.9, 1.0], 'tfidf__use_idf': [True, False],\n",
       "                         'vect__ngram_range': [(2, 2), (1, 2), (2, 3)]},\n",
       "             verbose=2)"
      ]
     },
     "execution_count": 26,
     "metadata": {},
     "output_type": "execute_result"
    }
   ],
   "source": [
    "lsv_clf = Pipeline([\n",
    "        ('vect', CountVectorizer()),\n",
    "        ('tfidf', TfidfTransformer()),\n",
    "        ('clf', LinearSVC(random_state=0, class_weight='balanced'))\n",
    "    ])\n",
    "\n",
    "params = {\n",
    "        'vect__ngram_range':[(2,2),(1,2),(2,3)],\n",
    "        'clf__C':[0.9, 1.0],\n",
    "        'tfidf__use_idf':[True, False]\n",
    "    }\n",
    "\n",
    "gs_clf = GridSearchCV(lsv_clf, params, cv=3, verbose=2)\n",
    "gs_clf.fit(X_train, y_train)"
   ]
  },
  {
   "cell_type": "code",
   "execution_count": 27,
   "metadata": {
    "colab": {
     "base_uri": "https://localhost:8080/"
    },
    "executionInfo": {
     "elapsed": 3,
     "status": "ok",
     "timestamp": 1637633272648,
     "user": {
      "displayName": "Jared Neumann",
      "photoUrl": "https://lh3.googleusercontent.com/a-/AOh14Gi8uy7h5qc87fTu6XsR_eRxnTy7hHiTdOTqCbB8=s64",
      "userId": "06846793073128993118"
     },
     "user_tz": 300
    },
    "id": "HKMjVWTMAd4u",
    "outputId": "b5ca919a-a069-4e7e-de9d-67632d475fff"
   },
   "outputs": [
    {
     "name": "stdout",
     "output_type": "stream",
     "text": [
      "\n",
      "+-------------------------------------------------------+\n",
      " Best parameters:\n",
      "+-------------------------------------------------------+\n",
      "clf__C: 1.0\n",
      "tfidf__use_idf: True\n",
      "vect__ngram_range: (1, 2)\n",
      "\n"
     ]
    }
   ],
   "source": [
    "# Get the best parameters and print them.\n",
    "best_params = gs_clf.best_params_\n",
    "print()\n",
    "print(\"+-------------------------------------------------------+\")\n",
    "print(\" Best parameters:\")\n",
    "print(\"+-------------------------------------------------------+\")\n",
    "for key in best_params.keys():\n",
    "  print(key + ': ' + str(best_params[key]))\n",
    "print()"
   ]
  },
  {
   "cell_type": "code",
   "execution_count": 28,
   "metadata": {
    "id": "EnaJFpR7vUQE"
   },
   "outputs": [],
   "source": [
    "# Save the trained model with the best parameters\n",
    "with open('trained_lsvc.sav', 'wb+') as save:\n",
    "  pickle.dump(gs_clf, save)"
   ]
  },
  {
   "cell_type": "markdown",
   "metadata": {
    "id": "PraMZOuAs0Us"
   },
   "source": [
    "Using the best-fit model, we can **predict** the labels for the testing set and generate a report about how it did compared to the actual labels."
   ]
  },
  {
   "cell_type": "code",
   "execution_count": 29,
   "metadata": {
    "id": "WYngsHl-XeWH"
   },
   "outputs": [],
   "source": [
    "preds = gs_clf.predict(X_test)"
   ]
  },
  {
   "cell_type": "code",
   "execution_count": 30,
   "metadata": {
    "colab": {
     "base_uri": "https://localhost:8080/"
    },
    "executionInfo": {
     "elapsed": 3,
     "status": "ok",
     "timestamp": 1637633274212,
     "user": {
      "displayName": "Jared Neumann",
      "photoUrl": "https://lh3.googleusercontent.com/a-/AOh14Gi8uy7h5qc87fTu6XsR_eRxnTy7hHiTdOTqCbB8=s64",
      "userId": "06846793073128993118"
     },
     "user_tz": 300
    },
    "id": "WCP1b7zmXkk4",
    "outputId": "3ebeffb4-d27d-4bdf-e38a-070809843421"
   },
   "outputs": [
    {
     "name": "stdout",
     "output_type": "stream",
     "text": [
      "+-------------------------------------------------------+\n",
      " Classification report:\n",
      "+-------------------------------------------------------+\n",
      "                 precision    recall  f1-score   support\n",
      "\n",
      "            acq     0.9365    0.9736    0.9547       606\n",
      "           alum     0.8125    1.0000    0.8966        13\n",
      "            bop     0.8750    0.9333    0.9032        15\n",
      "        carcass     0.3333    0.1429    0.2000         7\n",
      "          cocoa     1.0000    1.0000    1.0000        17\n",
      "         coffee     0.8205    1.0000    0.9014        32\n",
      "         copper     1.0000    1.0000    1.0000        16\n",
      "           corn     0.0000    0.0000    0.0000         2\n",
      "         cotton     1.0000    0.4286    0.6000         7\n",
      "            cpi     0.8750    0.9545    0.9130        22\n",
      "            cpu     0.0000    0.0000    0.0000         1\n",
      "          crude     0.8551    0.8676    0.8613       136\n",
      "            dlr     0.2500    0.1667    0.2000        12\n",
      "           earn     0.9917    0.9678    0.9796       993\n",
      "           fuel     1.0000    0.6667    0.8000         3\n",
      "            gas     1.0000    0.3333    0.5000         9\n",
      "            gnp     0.7429    0.8125    0.7761        32\n",
      "           gold     0.8611    1.0000    0.9254        31\n",
      "          grain     0.8367    0.9179    0.8754       134\n",
      "           heat     0.6667    0.5000    0.5714         4\n",
      "            hog     0.7500    0.7500    0.7500         4\n",
      "        housing     1.0000    0.8000    0.8889         5\n",
      "         income     1.0000    1.0000    1.0000         3\n",
      "    instal-debt     0.6667    1.0000    0.8000         2\n",
      "       interest     0.8133    0.7176    0.7625        85\n",
      "            ipi     1.0000    0.7143    0.8333        14\n",
      "     iron-steel     0.6667    0.7692    0.7143        13\n",
      "            jet     0.0000    0.0000    0.0000         1\n",
      "           jobs     1.0000    1.0000    1.0000        14\n",
      "           lead     1.0000    0.6000    0.7500         5\n",
      "            lei     0.8000    1.0000    0.8889         4\n",
      "      livestock     0.8571    0.8000    0.8276        15\n",
      "         lumber     1.0000    0.3333    0.5000         3\n",
      "      meal-feed     0.6000    0.6000    0.6000         5\n",
      "       money-fx     0.8125    0.8412    0.8266       170\n",
      "   money-supply     0.8864    0.8864    0.8864        44\n",
      "        nat-gas     0.8667    1.0000    0.9286        13\n",
      "         nickel     0.0000    0.0000    0.0000         1\n",
      "        oilseed     0.7692    0.5000    0.6061        20\n",
      "         orange     1.0000    1.0000    1.0000         5\n",
      "       pet-chem     0.7500    0.4286    0.5455         7\n",
      "       platinum     1.0000    1.0000    1.0000         1\n",
      "         potato     1.0000    1.0000    1.0000         1\n",
      "       reserves     0.8571    0.7500    0.8000        16\n",
      "         retail     0.7500    1.0000    0.8571         6\n",
      "         rubber     0.9091    1.0000    0.9524        10\n",
      "           ship     0.7455    0.7885    0.7664        52\n",
      "         silver     0.6667    0.5000    0.5714         4\n",
      "        soybean     0.0000    0.0000    0.0000         1\n",
      "            stg     1.0000    1.0000    1.0000         1\n",
      "strategic-metal     1.0000    0.6000    0.7500         5\n",
      "          sugar     1.0000    0.9231    0.9600        39\n",
      "            tea     1.0000    0.5000    0.6667         2\n",
      "            tin     0.7273    1.0000    0.8421         8\n",
      "          trade     0.7984    0.8729    0.8340       118\n",
      "        veg-oil     0.7308    0.7917    0.7600        24\n",
      "          wheat     1.0000    0.2000    0.3333         5\n",
      "            wpi     1.0000    0.7143    0.8333         7\n",
      "            yen     1.0000    1.0000    1.0000         1\n",
      "           zinc     0.6667    0.8000    0.7273         5\n",
      "\n",
      "       accuracy                         0.9089      2831\n",
      "      macro avg     0.7825    0.7141    0.7270      2831\n",
      "   weighted avg     0.9083    0.9089    0.9053      2831\n",
      "\n"
     ]
    },
    {
     "name": "stderr",
     "output_type": "stream",
     "text": [
      "/Users/savitha/miniconda3/lib/python3.10/site-packages/sklearn/metrics/_classification.py:1344: UndefinedMetricWarning: Precision and F-score are ill-defined and being set to 0.0 in labels with no predicted samples. Use `zero_division` parameter to control this behavior.\n",
      "  _warn_prf(average, modifier, msg_start, len(result))\n",
      "/Users/savitha/miniconda3/lib/python3.10/site-packages/sklearn/metrics/_classification.py:1344: UndefinedMetricWarning: Precision and F-score are ill-defined and being set to 0.0 in labels with no predicted samples. Use `zero_division` parameter to control this behavior.\n",
      "  _warn_prf(average, modifier, msg_start, len(result))\n",
      "/Users/savitha/miniconda3/lib/python3.10/site-packages/sklearn/metrics/_classification.py:1344: UndefinedMetricWarning: Precision and F-score are ill-defined and being set to 0.0 in labels with no predicted samples. Use `zero_division` parameter to control this behavior.\n",
      "  _warn_prf(average, modifier, msg_start, len(result))\n"
     ]
    }
   ],
   "source": [
    "report = classification_report(y_test, preds, digits=4)\n",
    "print(\"+-------------------------------------------------------+\")\n",
    "print(\" Classification report:\")\n",
    "print(\"+-------------------------------------------------------+\")\n",
    "print(report)"
   ]
  },
  {
   "cell_type": "markdown",
   "metadata": {
    "id": "8JeScXantYTc"
   },
   "source": [
    "As one might expect, the **low-support classes** have **wildly differing scores**. This is because it is difficult to learn, at least with any consistency, the features of underrepresented classes. The scores for **higher-support classes** are more interesting, with the **f1 scores for 'money-fx' at about 0.81, 'trade' at about 0.84, 'acq' at about 0.90, and 'earn' -- with the highest support -- at about 0.97**. Perhaps more interesting is that the model was able to predict the created class, 'none', with an f1 score of about 0.88. This was interesting to me because it means there are learnable features of entries that indicate they should fall outside the scope of the given classification scheme. If I were to pursue this further, I would certainly analyze these results using PCA and tSNE to identify the confusion of each class with each other. For now, a subset of the large confusion matrix will have to do."
   ]
  },
  {
   "cell_type": "code",
   "execution_count": 31,
   "metadata": {
    "colab": {
     "base_uri": "https://localhost:8080/",
     "height": 279
    },
    "executionInfo": {
     "elapsed": 1305,
     "status": "ok",
     "timestamp": 1637641829905,
     "user": {
      "displayName": "Jared Neumann",
      "photoUrl": "https://lh3.googleusercontent.com/a-/AOh14Gi8uy7h5qc87fTu6XsR_eRxnTy7hHiTdOTqCbB8=s64",
      "userId": "06846793073128993118"
     },
     "user_tz": 300
    },
    "id": "4c8PuOFz8yFk",
    "outputId": "80d3e9e0-109e-49b4-dd50-e028be3f8555"
   },
   "outputs": [
    {
     "data": {
      "image/png": "[encoded data removed]",
      "text/plain": [
       "<Figure size 640x480 with 2 Axes>"
      ]
     },
     "metadata": {},
     "output_type": "display_data"
    }
   ],
   "source": [
    "ConfusionMatrixDisplay.from_estimator(gs_clf, X_test, y_test, labels=['grain', 'meal-feed', 'wheat', 'none'])\n",
    "plt.show()"
   ]
  },
  {
   "cell_type": "markdown",
   "metadata": {
    "id": "Zco1cgiZspi5"
   },
   "source": [
    "### Binary Classification with Respect to 'earn'"
   ]
  },
  {
   "cell_type": "markdown",
   "metadata": {
    "id": "ULC9ylpNw8cD"
   },
   "source": [
    "To perform the **binary classification** task, the dataset must be changed in order to create two classes. In this case, **the classes were 'earn' and 'not-earn'**. I anticipate this to be a difficult task considering the variety of the 'not-earn' entries might compound the confusion between them and 'earn'."
   ]
  },
  {
   "cell_type": "code",
   "execution_count": 32,
   "metadata": {
    "id": "S0bYuCyDi4Nn"
   },
   "outputs": [],
   "source": [
    "dataset_dicts_bin = dataset_dicts\n",
    "\n",
    "for data in dataset_dicts_bin:\n",
    "  if data['TOPICS'] != 'earn':\n",
    "    data['TOPICS'] = 'not-earn'"
   ]
  },
  {
   "cell_type": "code",
   "execution_count": 33,
   "metadata": {
    "id": "21iHuIh5jFTY"
   },
   "outputs": [],
   "source": [
    "df_bin = pd.DataFrame(dataset_dicts)"
   ]
  },
  {
   "cell_type": "markdown",
   "metadata": {
    "id": "YrCCa3qD18p7"
   },
   "source": [
    "Then, the data is split in the same manner as above."
   ]
  },
  {
   "cell_type": "code",
   "execution_count": 34,
   "metadata": {
    "id": "Ww6XF0X0jVG3"
   },
   "outputs": [],
   "source": [
    "X_train_bin, X_test_bin, y_train_bin, y_test_bin = train_test_split(df_bin['BODY'], df_bin['TOPICS'], train_size=0.75, stratify=df_bin['TOPICS'])"
   ]
  },
  {
   "cell_type": "markdown",
   "metadata": {
    "id": "ZUsyHWbt2DDT"
   },
   "source": [
    "For this task, I would have liked to use an SVC again, however that took too much time so I decided to try a different classifier: **Multinomial Naive Bayes**. Utlimately, I would prefer to train and compare several different classifiers, but that was beyond the scope of this format. \n",
    "\n",
    "Below, the linquistic data is transformed in the same manner as above using **CountVectorizer** in order to get vectors representing each entry. However, it is not necessary or even beneficial to convert the counts in those vectors via the **TfidfTransformer** for MNB. A range of variables are selected again to yield a reasonable runtime but give some variation. In MNB, prior probabilities are initialized and then updated given the observed instances of entries and the classes to which they belong. For more, see the [User Guide](https://scikit-learn.org/stable/modules/naive_bayes.html#multinomial-naive-bayes).\n",
    "\n",
    "**Expect this to run for about 5 minutes using the same SequentialBackend with one worker.**"
   ]
  },
  {
   "cell_type": "code",
   "execution_count": 35,
   "metadata": {
    "colab": {
     "base_uri": "https://localhost:8080/"
    },
    "executionInfo": {
     "elapsed": 159983,
     "status": "ok",
     "timestamp": 1637633434455,
     "user": {
      "displayName": "Jared Neumann",
      "photoUrl": "https://lh3.googleusercontent.com/a-/AOh14Gi8uy7h5qc87fTu6XsR_eRxnTy7hHiTdOTqCbB8=s64",
      "userId": "06846793073128993118"
     },
     "user_tz": 300
    },
    "id": "p1b3Tut9juCW",
    "outputId": "39f5ab97-9603-4345-d0f0-53ace1909ae9"
   },
   "outputs": [
    {
     "name": "stdout",
     "output_type": "stream",
     "text": [
      "Fitting 3 folds for each of 12 candidates, totalling 36 fits\n",
      "[CV] END clf__alpha=1e-06, clf__fit_prior=True, vect__ngram_range=(2, 2); total time=   1.0s\n",
      "[CV] END clf__alpha=1e-06, clf__fit_prior=True, vect__ngram_range=(2, 2); total time=   1.0s\n",
      "[CV] END clf__alpha=1e-06, clf__fit_prior=True, vect__ngram_range=(2, 2); total time=   1.0s\n",
      "[CV] END clf__alpha=1e-06, clf__fit_prior=True, vect__ngram_range=(1, 2); total time=   1.3s\n",
      "[CV] END clf__alpha=1e-06, clf__fit_prior=True, vect__ngram_range=(1, 2); total time=   1.3s\n",
      "[CV] END clf__alpha=1e-06, clf__fit_prior=True, vect__ngram_range=(1, 2); total time=   1.3s\n",
      "[CV] END clf__alpha=1e-06, clf__fit_prior=True, vect__ngram_range=(2, 3); total time=   2.3s\n",
      "[CV] END clf__alpha=1e-06, clf__fit_prior=True, vect__ngram_range=(2, 3); total time=   2.3s\n",
      "[CV] END clf__alpha=1e-06, clf__fit_prior=True, vect__ngram_range=(2, 3); total time=   2.3s\n",
      "[CV] END clf__alpha=1e-06, clf__fit_prior=False, vect__ngram_range=(2, 2); total time=   1.0s\n",
      "[CV] END clf__alpha=1e-06, clf__fit_prior=False, vect__ngram_range=(2, 2); total time=   1.0s\n",
      "[CV] END clf__alpha=1e-06, clf__fit_prior=False, vect__ngram_range=(2, 2); total time=   1.0s\n",
      "[CV] END clf__alpha=1e-06, clf__fit_prior=False, vect__ngram_range=(1, 2); total time=   1.3s\n",
      "[CV] END clf__alpha=1e-06, clf__fit_prior=False, vect__ngram_range=(1, 2); total time=   1.3s\n",
      "[CV] END clf__alpha=1e-06, clf__fit_prior=False, vect__ngram_range=(1, 2); total time=   1.3s\n",
      "[CV] END clf__alpha=1e-06, clf__fit_prior=False, vect__ngram_range=(2, 3); total time=   2.3s\n",
      "[CV] END clf__alpha=1e-06, clf__fit_prior=False, vect__ngram_range=(2, 3); total time=   2.3s\n",
      "[CV] END clf__alpha=1e-06, clf__fit_prior=False, vect__ngram_range=(2, 3); total time=   2.4s\n",
      "[CV] END clf__alpha=1, clf__fit_prior=True, vect__ngram_range=(2, 2); total time=   1.0s\n",
      "[CV] END clf__alpha=1, clf__fit_prior=True, vect__ngram_range=(2, 2); total time=   1.0s\n",
      "[CV] END clf__alpha=1, clf__fit_prior=True, vect__ngram_range=(2, 2); total time=   1.0s\n",
      "[CV] END clf__alpha=1, clf__fit_prior=True, vect__ngram_range=(1, 2); total time=   1.3s\n",
      "[CV] END clf__alpha=1, clf__fit_prior=True, vect__ngram_range=(1, 2); total time=   1.3s\n",
      "[CV] END clf__alpha=1, clf__fit_prior=True, vect__ngram_range=(1, 2); total time=   1.3s\n",
      "[CV] END clf__alpha=1, clf__fit_prior=True, vect__ngram_range=(2, 3); total time=   2.4s\n",
      "[CV] END clf__alpha=1, clf__fit_prior=True, vect__ngram_range=(2, 3); total time=   2.4s\n",
      "[CV] END clf__alpha=1, clf__fit_prior=True, vect__ngram_range=(2, 3); total time=   2.3s\n",
      "[CV] END clf__alpha=1, clf__fit_prior=False, vect__ngram_range=(2, 2); total time=   1.0s\n",
      "[CV] END clf__alpha=1, clf__fit_prior=False, vect__ngram_range=(2, 2); total time=   1.0s\n",
      "[CV] END clf__alpha=1, clf__fit_prior=False, vect__ngram_range=(2, 2); total time=   1.0s\n",
      "[CV] END clf__alpha=1, clf__fit_prior=False, vect__ngram_range=(1, 2); total time=   1.4s\n",
      "[CV] END clf__alpha=1, clf__fit_prior=False, vect__ngram_range=(1, 2); total time=   1.3s\n",
      "[CV] END clf__alpha=1, clf__fit_prior=False, vect__ngram_range=(1, 2); total time=   1.4s\n",
      "[CV] END clf__alpha=1, clf__fit_prior=False, vect__ngram_range=(2, 3); total time=   2.4s\n",
      "[CV] END clf__alpha=1, clf__fit_prior=False, vect__ngram_range=(2, 3); total time=   2.3s\n",
      "[CV] END clf__alpha=1, clf__fit_prior=False, vect__ngram_range=(2, 3); total time=   2.4s\n"
     ]
    },
    {
     "data": {
      "text/html": [
       "<style>#sk-container-id-2 {color: black;background-color: white;}#sk-container-id-2 pre{padding: 0;}#sk-container-id-2 div.sk-toggleable {background-color: white;}#sk-container-id-2 label.sk-toggleable__label {cursor: pointer;display: block;width: 100%;margin-bottom: 0;padding: 0.3em;box-sizing: border-box;text-align: center;}#sk-container-id-2 label.sk-toggleable__label-arrow:before {content: \"▸\";float: left;margin-right: 0.25em;color: #696969;}#sk-container-id-2 label.sk-toggleable__label-arrow:hover:before {color: black;}#sk-container-id-2 div.sk-estimator:hover label.sk-toggleable__label-arrow:before {color: black;}#sk-container-id-2 div.sk-toggleable__content {max-height: 0;max-width: 0;overflow: hidden;text-align: left;background-color: #f0f8ff;}#sk-container-id-2 div.sk-toggleable__content pre {margin: 0.2em;color: black;border-radius: 0.25em;background-color: #f0f8ff;}#sk-container-id-2 input.sk-toggleable__control:checked~div.sk-toggleable__content {max-height: 200px;max-width: 100%;overflow: auto;}#sk-container-id-2 input.sk-toggleable__control:checked~label.sk-toggleable__label-arrow:before {content: \"▾\";}#sk-container-id-2 div.sk-estimator input.sk-toggleable__control:checked~label.sk-toggleable__label {background-color: #d4ebff;}#sk-container-id-2 div.sk-label input.sk-toggleable__control:checked~label.sk-toggleable__label {background-color: #d4ebff;}#sk-container-id-2 input.sk-hidden--visually {border: 0;clip: rect(1px 1px 1px 1px);clip: rect(1px, 1px, 1px, 1px);height: 1px;margin: -1px;overflow: hidden;padding: 0;position: absolute;width: 1px;}#sk-container-id-2 div.sk-estimator {font-family: monospace;background-color: #f0f8ff;border: 1px dotted black;border-radius: 0.25em;box-sizing: border-box;margin-bottom: 0.5em;}#sk-container-id-2 div.sk-estimator:hover {background-color: #d4ebff;}#sk-container-id-2 div.sk-parallel-item::after {content: \"\";width: 100%;border-bottom: 1px solid gray;flex-grow: 1;}#sk-container-id-2 div.sk-label:hover label.sk-toggleable__label {background-color: #d4ebff;}#sk-container-id-2 div.sk-serial::before {content: \"\";position: absolute;border-left: 1px solid gray;box-sizing: border-box;top: 0;bottom: 0;left: 50%;z-index: 0;}#sk-container-id-2 div.sk-serial {display: flex;flex-direction: column;align-items: center;background-color: white;padding-right: 0.2em;padding-left: 0.2em;position: relative;}#sk-container-id-2 div.sk-item {position: relative;z-index: 1;}#sk-container-id-2 div.sk-parallel {display: flex;align-items: stretch;justify-content: center;background-color: white;position: relative;}#sk-container-id-2 div.sk-item::before, #sk-container-id-2 div.sk-parallel-item::before {content: \"\";position: absolute;border-left: 1px solid gray;box-sizing: border-box;top: 0;bottom: 0;left: 50%;z-index: -1;}#sk-container-id-2 div.sk-parallel-item {display: flex;flex-direction: column;z-index: 1;position: relative;background-color: white;}#sk-container-id-2 div.sk-parallel-item:first-child::after {align-self: flex-end;width: 50%;}#sk-container-id-2 div.sk-parallel-item:last-child::after {align-self: flex-start;width: 50%;}#sk-container-id-2 div.sk-parallel-item:only-child::after {width: 0;}#sk-container-id-2 div.sk-dashed-wrapped {border: 1px dashed gray;margin: 0 0.4em 0.5em 0.4em;box-sizing: border-box;padding-bottom: 0.4em;background-color: white;}#sk-container-id-2 div.sk-label label {font-family: monospace;font-weight: bold;display: inline-block;line-height: 1.2em;}#sk-container-id-2 div.sk-label-container {text-align: center;}#sk-container-id-2 div.sk-container {/* jupyter's `normalize.less` sets `[hidden] { display: none; }` but bootstrap.min.css set `[hidden] { display: none !important; }` so we also need the `!important` here to be able to override the default hidden behavior on the sphinx rendered scikit-learn.org. See: https://github.com/scikit-learn/scikit-learn/issues/21755 */display: inline-block !important;position: relative;}#sk-container-id-2 div.sk-text-repr-fallback {display: none;}</style><div id=\"sk-container-id-2\" class=\"sk-top-container\"><div class=\"sk-text-repr-fallback\"><pre>GridSearchCV(cv=3,\n",
       "             estimator=Pipeline(steps=[(&#x27;vect&#x27;, CountVectorizer()),\n",
       "                                       (&#x27;clf&#x27;, MultinomialNB())]),\n",
       "             param_grid={&#x27;clf__alpha&#x27;: (1e-06, 1),\n",
       "                         &#x27;clf__fit_prior&#x27;: (True, False),\n",
       "                         &#x27;vect__ngram_range&#x27;: [(2, 2), (1, 2), (2, 3)]},\n",
       "             verbose=2)</pre><b>In a Jupyter environment, please rerun this cell to show the HTML representation or trust the notebook. <br />On GitHub, the HTML representation is unable to render, please try loading this page with nbviewer.org.</b></div><div class=\"sk-container\" hidden><div class=\"sk-item sk-dashed-wrapped\"><div class=\"sk-label-container\"><div class=\"sk-label sk-toggleable\"><input class=\"sk-toggleable__control sk-hidden--visually\" id=\"sk-estimator-id-6\" type=\"checkbox\" ><label for=\"sk-estimator-id-6\" class=\"sk-toggleable__label sk-toggleable__label-arrow\">GridSearchCV</label><div class=\"sk-toggleable__content\"><pre>GridSearchCV(cv=3,\n",
       "             estimator=Pipeline(steps=[(&#x27;vect&#x27;, CountVectorizer()),\n",
       "                                       (&#x27;clf&#x27;, MultinomialNB())]),\n",
       "             param_grid={&#x27;clf__alpha&#x27;: (1e-06, 1),\n",
       "                         &#x27;clf__fit_prior&#x27;: (True, False),\n",
       "                         &#x27;vect__ngram_range&#x27;: [(2, 2), (1, 2), (2, 3)]},\n",
       "             verbose=2)</pre></div></div></div><div class=\"sk-parallel\"><div class=\"sk-parallel-item\"><div class=\"sk-item\"><div class=\"sk-label-container\"><div class=\"sk-label sk-toggleable\"><input class=\"sk-toggleable__control sk-hidden--visually\" id=\"sk-estimator-id-7\" type=\"checkbox\" ><label for=\"sk-estimator-id-7\" class=\"sk-toggleable__label sk-toggleable__label-arrow\">estimator: Pipeline</label><div class=\"sk-toggleable__content\"><pre>Pipeline(steps=[(&#x27;vect&#x27;, CountVectorizer()), (&#x27;clf&#x27;, MultinomialNB())])</pre></div></div></div><div class=\"sk-serial\"><div class=\"sk-item\"><div class=\"sk-serial\"><div class=\"sk-item\"><div class=\"sk-estimator sk-toggleable\"><input class=\"sk-toggleable__control sk-hidden--visually\" id=\"sk-estimator-id-8\" type=\"checkbox\" ><label for=\"sk-estimator-id-8\" class=\"sk-toggleable__label sk-toggleable__label-arrow\">CountVectorizer</label><div class=\"sk-toggleable__content\"><pre>CountVectorizer()</pre></div></div></div><div class=\"sk-item\"><div class=\"sk-estimator sk-toggleable\"><input class=\"sk-toggleable__control sk-hidden--visually\" id=\"sk-estimator-id-9\" type=\"checkbox\" ><label for=\"sk-estimator-id-9\" class=\"sk-toggleable__label sk-toggleable__label-arrow\">MultinomialNB</label><div class=\"sk-toggleable__content\"><pre>MultinomialNB()</pre></div></div></div></div></div></div></div></div></div></div></div></div>"
      ],
      "text/plain": [
       "GridSearchCV(cv=3,\n",
       "             estimator=Pipeline(steps=[('vect', CountVectorizer()),\n",
       "                                       ('clf', MultinomialNB())]),\n",
       "             param_grid={'clf__alpha': (1e-06, 1),\n",
       "                         'clf__fit_prior': (True, False),\n",
       "                         'vect__ngram_range': [(2, 2), (1, 2), (2, 3)]},\n",
       "             verbose=2)"
      ]
     },
     "execution_count": 35,
     "metadata": {},
     "output_type": "execute_result"
    }
   ],
   "source": [
    "bayes_clf = Pipeline([\n",
    "        ('vect', CountVectorizer()),\n",
    "        ('clf', MultinomialNB())\n",
    "    ])\n",
    "    \n",
    "# Define the optional parameters to be tried with NB.\n",
    "params_bin = {\n",
    "    'vect__ngram_range':[(2,2),(1,2),(2,3)],\n",
    "    'clf__alpha': (0.000001,1),\n",
    "    'clf__fit_prior':(True, False),\n",
    "    }\n",
    "\n",
    "gs_clf_bin = GridSearchCV(bayes_clf, params_bin, cv=3, verbose=2)\n",
    "gs_clf_bin.fit(X_train_bin, y_train_bin)"
   ]
  },
  {
   "cell_type": "code",
   "execution_count": 36,
   "metadata": {
    "colab": {
     "base_uri": "https://localhost:8080/"
    },
    "executionInfo": {
     "elapsed": 9,
     "status": "ok",
     "timestamp": 1637633434455,
     "user": {
      "displayName": "Jared Neumann",
      "photoUrl": "https://lh3.googleusercontent.com/a-/AOh14Gi8uy7h5qc87fTu6XsR_eRxnTy7hHiTdOTqCbB8=s64",
      "userId": "06846793073128993118"
     },
     "user_tz": 300
    },
    "id": "GJcx_VVKk6Qf",
    "outputId": "0db7888a-bc55-4765-fb23-e2ce87210123"
   },
   "outputs": [
    {
     "name": "stdout",
     "output_type": "stream",
     "text": [
      "\n",
      "Best parameters:\n",
      "---------------\n",
      "clf__alpha: 1\n",
      "clf__fit_prior: True\n",
      "vect__ngram_range: (2, 3)\n",
      "\n"
     ]
    }
   ],
   "source": [
    "# Get the best parameters and print the result\n",
    "best_params_bin = gs_clf_bin.best_params_\n",
    "print()\n",
    "print(\"Best parameters:\")\n",
    "print(\"---------------\")\n",
    "for key in best_params_bin.keys():\n",
    "  print(key + ': ' + str(best_params_bin[key]))\n",
    "print()"
   ]
  },
  {
   "cell_type": "code",
   "execution_count": 37,
   "metadata": {
    "id": "QYAhGVBg0C6q"
   },
   "outputs": [],
   "source": [
    "# Save the trained model with the best parameters\n",
    "with open('trained_mnbc.sav', 'wb+') as save:\n",
    "  pickle.dump(gs_clf_bin, save)"
   ]
  },
  {
   "cell_type": "markdown",
   "metadata": {
    "id": "Pdw7qIC7AYWW"
   },
   "source": [
    "Now we get the **predictions** and classification report using the trained model."
   ]
  },
  {
   "cell_type": "code",
   "execution_count": 38,
   "metadata": {
    "id": "p9qE-n16kwAT"
   },
   "outputs": [],
   "source": [
    "preds_bin = gs_clf_bin.predict(X_test_bin)"
   ]
  },
  {
   "cell_type": "code",
   "execution_count": 39,
   "metadata": {
    "colab": {
     "base_uri": "https://localhost:8080/"
    },
    "executionInfo": {
     "elapsed": 3,
     "status": "ok",
     "timestamp": 1637633436309,
     "user": {
      "displayName": "Jared Neumann",
      "photoUrl": "https://lh3.googleusercontent.com/a-/AOh14Gi8uy7h5qc87fTu6XsR_eRxnTy7hHiTdOTqCbB8=s64",
      "userId": "06846793073128993118"
     },
     "user_tz": 300
    },
    "id": "mHQQWSBPk_-x",
    "outputId": "dca064f6-e00b-42b4-8f84-384005d8990b"
   },
   "outputs": [
    {
     "name": "stdout",
     "output_type": "stream",
     "text": [
      "Classification report:\n",
      "---------------------\n",
      "              precision    recall  f1-score   support\n",
      "\n",
      "        earn     0.9912    0.9043    0.9458       993\n",
      "    not-earn     0.9509    0.9957    0.9728      1847\n",
      "\n",
      "    accuracy                         0.9637      2840\n",
      "   macro avg     0.9710    0.9500    0.9593      2840\n",
      "weighted avg     0.9650    0.9637    0.9633      2840\n",
      "\n"
     ]
    }
   ],
   "source": [
    "# Get the classification report and print it\n",
    "report_bin = classification_report(y_test_bin, preds_bin, digits=4)\n",
    "print(\"Classification report:\")\n",
    "print(\"---------------------\")\n",
    "print(report_bin)"
   ]
  },
  {
   "cell_type": "markdown",
   "metadata": {
    "id": "wdI7IgLSAgnK"
   },
   "source": [
    "Here, we can see that the **overall performance for predicting the class 'earn' is lower** than in the previous task. However, one issue with Naive Bayes is that it seems to benefit more from more examples than alternative classifiers (see the benchmark examples in the documentation). The classifier also gave a **very high precision score for 'earn'**, meaning that almost everything labeled 'earn' actually belonged to that class. However, the **much lower recall** means that several entries belonging to the class 'earn' were missed. We can investigate this more using the **confusion matrix** below."
   ]
  },
  {
   "cell_type": "code",
   "execution_count": null,
   "metadata": {
    "colab": {
     "base_uri": "https://localhost:8080/",
     "height": 334
    },
    "executionInfo": {
     "elapsed": 427,
     "status": "ok",
     "timestamp": 1637633436735,
     "user": {
      "displayName": "Jared Neumann",
      "photoUrl": "https://lh3.googleusercontent.com/a-/AOh14Gi8uy7h5qc87fTu6XsR_eRxnTy7hHiTdOTqCbB8=s64",
      "userId": "06846793073128993118"
     },
     "user_tz": 300
    },
    "id": "g7TGxpLJh8Kx",
    "outputId": "5987e8a1-0bff-4365-e79c-ff77ba9c2709"
   },
   "outputs": [
    {
     "name": "stdout",
     "output_type": "stream",
     "text": [
      "+----------------------------------------------------+\n",
      " Confusion Matrix:\n",
      "+----------------------------------------------------+\n"
     ]
    },
    {
     "data": {
      "image/png": "[encoded data removed]",
      "text/plain": [
       "<Figure size 432x288 with 2 Axes>"
      ]
     },
     "metadata": {
      "needs_background": "light"
     },
     "output_type": "display_data"
    }
   ],
   "source": [
    "cm_bin = confusion_matrix(y_test_bin, preds_bin, labels=gs_clf_bin.classes_, normalize='true')\n",
    "disp_bin = ConfusionMatrixDisplay(confusion_matrix=cm_bin, display_labels=gs_clf_bin.classes_)\n",
    "print(\"+----------------------------------------------------+\")\n",
    "print(\" Confusion Matrix:\")\n",
    "print(\"+----------------------------------------------------+\")\n",
    "disp_bin.plot()\n",
    "plt.show()"
   ]
  },
  {
   "cell_type": "markdown",
   "metadata": {
    "id": "ji9kiwUKEjP3"
   },
   "source": [
    "The interesting part of this analysis is that categorizing and capturing all instances of 'not-earn' was almost perfect, whereas the top-right cell indicates that several entries were also labeled 'not-earn' which should have been 'earn'. I think this is likely due to the issue alluded to earlier that with so many varieties of 'not-earn' entries, and such a high number of them, some are bound to be close enough to 'earn' entries that it is hard to tell them apart. Further research would be on that shared, fuzzy boundary -- where, and in what manner, it shows up. It could be that some entries are mislabeled; it could be that there is some shared vocabulary; it could be that there is additional information that could help separate the two (as in the other sgm labels). "
   ]
  },
  {
   "cell_type": "markdown",
   "metadata": {
    "id": "6OGvhdas0SCS"
   },
   "source": []
  },
  {
   "cell_type": "markdown",
   "metadata": {
    "id": "x8x98i1V1n8_"
   },
   "source": [
    "## Loading and Running the Models"
   ]
  },
  {
   "cell_type": "markdown",
   "metadata": {
    "id": "0tNu8A8uUt4t"
   },
   "source": [
    "This is intended to stand apart from the previous sections so that the user may use the pre-trained model (saved from above) with new data. Data is accepted in two forms: (1) raw text input, and (2) a structured SGM-formatted file like those found in the data directory. \n",
    "\n",
    "Simply run each cell in turn and provide the requested input when prompted."
   ]
  },
  {
   "cell_type": "markdown",
   "metadata": {
    "id": "Mpx88g6RXlkZ"
   },
   "source": [
    "### Importing Libraries"
   ]
  },
  {
   "cell_type": "code",
   "execution_count": 40,
   "metadata": {
    "id": "0u62lfyx1wO7"
   },
   "outputs": [],
   "source": [
    "import pickle\n",
    "import numpy as np\n",
    "import os\n",
    "import re\n",
    "from bs4 import BeautifulSoup"
   ]
  },
  {
   "cell_type": "markdown",
   "metadata": {
    "id": "10gh0m_AXt7I"
   },
   "source": [
    "### Loading the Pre-Trained Models"
   ]
  },
  {
   "cell_type": "code",
   "execution_count": 41,
   "metadata": {
    "id": "iVax_a4e2lhl"
   },
   "outputs": [],
   "source": [
    "with open('trained_lsvc.sav', 'rb') as lsvc_model:\n",
    "  lsvc = pickle.load(lsvc_model)\n",
    "lsvc_model.close()\n",
    "with open('trained_mnbc.sav', 'rb') as mnbc_model:\n",
    "  mnbc = pickle.load(mnbc_model)\n",
    "mnbc_model.close()"
   ]
  },
  {
   "cell_type": "markdown",
   "metadata": {
    "id": "_-ktEoZ0X96I"
   },
   "source": [
    "### Defining Functions to Predict Categories"
   ]
  },
  {
   "cell_type": "markdown",
   "metadata": {
    "id": "QamwJvfOYKqy"
   },
   "source": [
    "Two functions are defined:\n",
    "\n",
    "\n",
    "1.   **predict_raw_text**: prompts the user for raw text input in the form of a string and prints the predicted category using the Linear Support Vector Classifier and Multinomial Naive Bayes Classifier trained above.\n",
    "2.   **predict_sgm_text**: prompts the user for a filepath to an SGM file such as those in the data directory and prints the predicted category for the body of the file using the same classifiers.\n",
    "\n"
   ]
  },
  {
   "cell_type": "code",
   "execution_count": 42,
   "metadata": {
    "id": "gz5fVXut3gDB"
   },
   "outputs": [],
   "source": [
    "def predict_raw_text():\n",
    "\n",
    "  text = [input(\"Enter raw text: \")]\n",
    "\n",
    "  lsvc_prediction = lsvc.predict(text)\n",
    "  mnbc_prediction = mnbc.predict(text)\n",
    "\n",
    "  print(\"The Support Vector Classifier (multiclass) predicts the category: \" + lsvc_prediction.tolist()[0])\n",
    "  print(\"The Naive Bayes Classifier (binary) predicts the category: \" + mnbc_prediction.tolist()[0])"
   ]
  },
  {
   "cell_type": "markdown",
   "metadata": {
    "id": "1hWf8cXJYDlu"
   },
   "source": [
    "### Predicting Categories"
   ]
  },
  {
   "cell_type": "markdown",
   "metadata": {
    "id": "W2QoBR90Y7Mc"
   },
   "source": [
    "When each cell is run, the user will be prompted for information, either raw text or a file path."
   ]
  },
  {
   "cell_type": "code",
   "execution_count": null,
   "metadata": {},
   "outputs": [],
   "source": [
    "predict_raw_text()"
   ]
  }
 ],
 "metadata": {
  "colab": {
   "collapsed_sections": [
    "Zco1cgiZspi5",
    "_-ktEoZ0X96I",
    "1hWf8cXJYDlu"
   ],
   "name": "Reuters-News-Classification.ipynb",
   "provenance": [],
   "toc_visible": true
  },
  "kernelspec": {
   "display_name": "Python 3 (ipykernel)",
   "language": "python",
   "name": "python3"
  },
  "language_info": {
   "codemirror_mode": {
    "name": "ipython",
    "version": 3
   },
   "file_extension": ".py",
   "mimetype": "text/x-python",
   "name": "python",
   "nbconvert_exporter": "python",
   "pygments_lexer": "ipython3",
   "version": "3.10.12"
  }
 },
 "nbformat": 4,
 "nbformat_minor": 4
}
